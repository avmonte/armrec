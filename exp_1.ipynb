{
 "cells": [
  {
   "cell_type": "code",
   "id": "initial_id",
   "metadata": {
    "collapsed": true
   },
   "source": [
    "import cv2\n",
    "import numpy as np\n",
    "import matplotlib.pyplot as plt"
   ],
   "outputs": [],
   "execution_count": null
  },
  {
   "metadata": {},
   "cell_type": "code",
   "source": [
    "image = cv2.imread('.exp/N-002_bw.jpg', cv2.IMREAD_GRAYSCALE)\n",
    "image = cv2.bitwise_not(image)\n",
    "\n",
    "plt.title('Original Image')\n",
    "plt.imshow(image, cmap='gray')\n",
    "plt.show()"
   ],
   "id": "d75a8216945df3c1",
   "outputs": [],
   "execution_count": null
  },
  {
   "metadata": {},
   "cell_type": "code",
   "source": [
    "# Apply Hough Transform\n",
    "edges = cv2.Canny(image, 50, 150)\n",
    "lines_ = cv2.HoughLines(edges, rho=1, theta=np.pi/180, threshold=100)\n",
    "\n",
    "if lines_ is None:\n",
    "    print(\"No lines detected\")\n",
    "    exit()\n",
    "\n",
    "rho_values, theta_values = zip(*[line[0] for line in lines_])"
   ],
   "id": "40b858300b88642f",
   "outputs": [],
   "execution_count": null
  },
  {
   "metadata": {},
   "cell_type": "code",
   "source": [
    "# Scatter plot of rho and theta values\n",
    "rho_values = tuple(map(abs, rho_values))\n",
    "\n",
    "plt.scatter(theta_values, rho_values, marker='.', color='blue')\n",
    "plt.title('Scatter plot of rho and theta values')\n",
    "plt.xlabel('theta'); plt.ylabel('rho')\n",
    "plt.show()"
   ],
   "id": "b01f55d949796907",
   "outputs": [],
   "execution_count": null
  }
 ],
 "metadata": {
  "kernelspec": {
   "display_name": "Python 3",
   "language": "python",
   "name": "python3"
  },
  "language_info": {
   "codemirror_mode": {
    "name": "ipython",
    "version": 2
   },
   "file_extension": ".py",
   "mimetype": "text/x-python",
   "name": "python",
   "nbconvert_exporter": "python",
   "pygments_lexer": "ipython2",
   "version": "2.7.6"
  }
 },
 "nbformat": 4,
 "nbformat_minor": 5
}
